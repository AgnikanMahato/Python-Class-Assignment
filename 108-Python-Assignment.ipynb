{
 "cells": [
  {
   "cell_type": "markdown",
   "id": "bc489591-e559-4900-a82c-e971c5facd6a",
   "metadata": {},
   "source": [
    "### 1. Addition & Average of Three Float Numbers"
   ]
  },
  {
   "cell_type": "code",
   "execution_count": 1,
   "id": "1c62481e-c227-4bed-a4aa-364d227c4498",
   "metadata": {},
   "outputs": [
    {
     "name": "stdin",
     "output_type": "stream",
     "text": [
      "Enter first number:  356\n",
      "Enter second number:  256\n",
      "Enter third number:  254\n"
     ]
    },
    {
     "name": "stdout",
     "output_type": "stream",
     "text": [
      "Addition: 866.0\n",
      "Average: 288.6666666666667\n"
     ]
    }
   ],
   "source": [
    "# Input three float numbers\n",
    "num1 = float(input(\"Enter first number: \"))\n",
    "num2 = float(input(\"Enter second number: \"))\n",
    "num3 = float(input(\"Enter third number: \"))\n",
    "\n",
    "# Calculate addition and average\n",
    "total = num1 + num2 + num3\n",
    "average = total / 3\n",
    "\n",
    "print(f\"Addition: {total}\")\n",
    "print(f\"Average: {average}\")\n"
   ]
  },
  {
   "cell_type": "markdown",
   "id": "86ab7e27-8b1a-49ca-b903-58a0adeba767",
   "metadata": {},
   "source": [
    "### 2. Volume of a Sphere with Radius 6 cm"
   ]
  },
  {
   "cell_type": "code",
   "execution_count": 2,
   "id": "13fbb568-caf1-45f6-94d9-0cb2be55961a",
   "metadata": {},
   "outputs": [
    {
     "name": "stdout",
     "output_type": "stream",
     "text": [
      "Volume of the sphere: 904.78 cubic cm\n"
     ]
    }
   ],
   "source": [
    "import math\n",
    "\n",
    "# Radius of the sphere\n",
    "radius = 6\n",
    "\n",
    "# Volume of the sphere\n",
    "volume = (4/3) * math.pi * (radius ** 3)\n",
    "\n",
    "print(f\"Volume of the sphere: {volume:.2f} cubic cm\")\n"
   ]
  },
  {
   "cell_type": "markdown",
   "id": "766bf248-ddfb-49e7-b787-01c4f0cdc4fb",
   "metadata": {},
   "source": [
    "### 3. Area of a Circle"
   ]
  },
  {
   "cell_type": "code",
   "execution_count": 3,
   "id": "6b4c3de5-b835-4960-a394-580f13086535",
   "metadata": {},
   "outputs": [
    {
     "name": "stdin",
     "output_type": "stream",
     "text": [
      "Enter the radius of the circle:  25\n"
     ]
    },
    {
     "name": "stdout",
     "output_type": "stream",
     "text": [
      "Area of the circle: 1963.50\n"
     ]
    }
   ],
   "source": [
    "import math\n",
    "\n",
    "# Radius of the circle\n",
    "radius = float(input(\"Enter the radius of the circle: \"))\n",
    "\n",
    "# Area of the circle\n",
    "area = math.pi * (radius ** 2)\n",
    "\n",
    "print(f\"Area of the circle: {area:.2f}\")\n"
   ]
  },
  {
   "cell_type": "markdown",
   "id": "54817334-0dea-4e4b-b60f-80c375fd9796",
   "metadata": {},
   "source": [
    "### 4. Compute Simple Interest"
   ]
  },
  {
   "cell_type": "code",
   "execution_count": 4,
   "id": "6cc37ebc-e10e-4934-89dd-848fdf4260a5",
   "metadata": {},
   "outputs": [
    {
     "name": "stdin",
     "output_type": "stream",
     "text": [
      "Enter the principal amount:  100000\n",
      "Enter the rate of interest:  20\n",
      "Enter the time (in years):  3\n"
     ]
    },
    {
     "name": "stdout",
     "output_type": "stream",
     "text": [
      "Simple Interest: 60000.00\n"
     ]
    }
   ],
   "source": [
    "# Input principal, rate, and time\n",
    "principal = float(input(\"Enter the principal amount: \"))\n",
    "rate = float(input(\"Enter the rate of interest: \"))\n",
    "time = float(input(\"Enter the time (in years): \"))\n",
    "\n",
    "# Calculate simple interest\n",
    "interest = (principal * rate * time) / 100\n",
    "\n",
    "print(f\"Simple Interest: {interest:.2f}\")\n"
   ]
  },
  {
   "cell_type": "markdown",
   "id": "ed3f74c5-a804-4490-b31f-2a732f7ae7bf",
   "metadata": {},
   "source": [
    "### 5. Swap Two Numbers Without Using a Third Variable"
   ]
  },
  {
   "cell_type": "code",
   "execution_count": 5,
   "id": "abee8c74-85fa-4120-b267-b44c000c746f",
   "metadata": {},
   "outputs": [
    {
     "name": "stdin",
     "output_type": "stream",
     "text": [
      "Enter first number:  56\n",
      "Enter second number:  69\n"
     ]
    },
    {
     "name": "stdout",
     "output_type": "stream",
     "text": [
      "After swapping: a = 69.0, b = 56.0\n"
     ]
    }
   ],
   "source": [
    "# Input two numbers\n",
    "a = float(input(\"Enter first number: \"))\n",
    "b = float(input(\"Enter second number: \"))\n",
    "\n",
    "# Swap numbers\n",
    "a, b = b, a\n",
    "\n",
    "print(f\"After swapping: a = {a}, b = {b}\")\n"
   ]
  },
  {
   "cell_type": "markdown",
   "id": "d363fafa-5491-451e-9bf1-cde32558eb96",
   "metadata": {},
   "source": [
    "### 6. Convert Celsius to Fahrenheit"
   ]
  },
  {
   "cell_type": "code",
   "execution_count": 7,
   "id": "3212f734-e17e-4ce1-b47b-d737b198c7c5",
   "metadata": {},
   "outputs": [
    {
     "name": "stdin",
     "output_type": "stream",
     "text": [
      "Enter temperature in Celsius:  48\n"
     ]
    },
    {
     "name": "stdout",
     "output_type": "stream",
     "text": [
      "Temperature in Fahrenheit: 118.40\n"
     ]
    }
   ],
   "source": [
    "# Input temperature in Celsius\n",
    "celsius = float(input(\"Enter temperature in Celsius: \"))\n",
    "\n",
    "# Convert to Fahrenheit\n",
    "fahrenheit = (celsius * 9/5) + 32\n",
    "\n",
    "print(f\"Temperature in Fahrenheit: {fahrenheit:.2f}\")\n"
   ]
  },
  {
   "cell_type": "markdown",
   "id": "818be1e5-2a85-462b-aff9-9d76d32a528d",
   "metadata": {},
   "source": [
    "### 7. Convert Days to Years, Months, Weeks, and Days"
   ]
  },
  {
   "cell_type": "code",
   "execution_count": 10,
   "id": "20635a02-1fbf-499c-8943-0b990123a9fa",
   "metadata": {},
   "outputs": [
    {
     "name": "stdin",
     "output_type": "stream",
     "text": [
      "Enter number of days:  1778\n"
     ]
    },
    {
     "name": "stdout",
     "output_type": "stream",
     "text": [
      "4 years, 10 months, 2 weeks, and 4 days\n"
     ]
    }
   ],
   "source": [
    "# Input number of days\n",
    "total_days = int(input(\"Enter number of days: \"))\n",
    "\n",
    "# Calculate years, months, weeks, and days\n",
    "years = total_days // 365\n",
    "days = total_days % 365\n",
    "months = days // 30\n",
    "days %= 30\n",
    "weeks = days // 7\n",
    "days %= 7\n",
    "\n",
    "print(f\"{years} years, {months} months, {weeks} weeks, and {days} days\")\n"
   ]
  },
  {
   "cell_type": "markdown",
   "id": "ea8871a0-cab1-481a-943f-9606b2f09630",
   "metadata": {},
   "source": [
    "### 8. Gravitational Force Between Two Objects"
   ]
  },
  {
   "cell_type": "code",
   "execution_count": 11,
   "id": "104cb7d6-aa0a-475b-b860-8d67a86781e8",
   "metadata": {},
   "outputs": [
    {
     "name": "stdin",
     "output_type": "stream",
     "text": [
      "Enter mass of the first object (kg):  32\n",
      "Enter mass of the second object (kg):  45\n",
      "Enter distance between the objects (m):  61\n"
     ]
    },
    {
     "name": "stdout",
     "output_type": "stream",
     "text": [
      "Gravitational Force: 2.58e-11 N\n"
     ]
    }
   ],
   "source": [
    "# Constants\n",
    "G = 6.67430e-11  # Gravitational constant\n",
    "\n",
    "# Input masses and distance\n",
    "m1 = float(input(\"Enter mass of the first object (kg): \"))\n",
    "m2 = float(input(\"Enter mass of the second object (kg): \"))\n",
    "d = float(input(\"Enter distance between the objects (m): \"))\n",
    "\n",
    "# Calculate gravitational force\n",
    "force = G * (m1 * m2) / (d ** 2)\n",
    "\n",
    "print(f\"Gravitational Force: {force:.2e} N\")\n"
   ]
  },
  {
   "cell_type": "markdown",
   "id": "cf002101-63f0-4f69-8ca0-e5c50985927d",
   "metadata": {},
   "source": [
    "### 9. Check if a Number is Even or Odd"
   ]
  },
  {
   "cell_type": "code",
   "execution_count": 12,
   "id": "bd07509b-d7b0-4033-b6ba-66b3ef2bd814",
   "metadata": {},
   "outputs": [
    {
     "name": "stdin",
     "output_type": "stream",
     "text": [
      "Enter a number:  132\n"
     ]
    },
    {
     "name": "stdout",
     "output_type": "stream",
     "text": [
      "The number is Even.\n"
     ]
    }
   ],
   "source": [
    "# Input number\n",
    "num = int(input(\"Enter a number: \"))\n",
    "\n",
    "# Check if even or odd\n",
    "if num % 2 == 0:\n",
    "    print(\"The number is Even.\")\n",
    "else:\n",
    "    print(\"The number is Odd.\")\n"
   ]
  },
  {
   "cell_type": "markdown",
   "id": "9ed1e910-ac26-4006-bda6-bbdb6cf55676",
   "metadata": {},
   "source": [
    "### 10. Conditional Output Based on User Input"
   ]
  },
  {
   "cell_type": "code",
   "execution_count": 13,
   "id": "c6e01521-bc6f-4eb0-aee1-d1f0ba88339c",
   "metadata": {},
   "outputs": [
    {
     "name": "stdin",
     "output_type": "stream",
     "text": [
      "Enter a number:  369\n"
     ]
    },
    {
     "name": "stdout",
     "output_type": "stream",
     "text": [
      "Result: 708.0\n"
     ]
    }
   ],
   "source": [
    "# Input number\n",
    "num = float(input(\"Enter a number: \"))\n",
    "\n",
    "# Calculate and print based on condition\n",
    "difference = num - 15\n",
    "if num > 15:\n",
    "    result = 2 * difference\n",
    "else:\n",
    "    result = 4 * difference\n",
    "\n",
    "print(f\"Result: {result}\")\n"
   ]
  },
  {
   "cell_type": "markdown",
   "id": "41a3a4e2-f400-436f-a331-9029a81a6185",
   "metadata": {},
   "source": [
    "### 11. Find Largest Among Three Numbers"
   ]
  },
  {
   "cell_type": "code",
   "execution_count": 14,
   "id": "14decf4a-2a62-4a26-b144-4facc7f669fc",
   "metadata": {},
   "outputs": [
    {
     "name": "stdin",
     "output_type": "stream",
     "text": [
      "Enter first number:  125\n",
      "Enter second number:  238\n",
      "Enter third number:  369\n"
     ]
    },
    {
     "name": "stdout",
     "output_type": "stream",
     "text": [
      "Largest number is: 369.0\n"
     ]
    }
   ],
   "source": [
    "# Input three numbers\n",
    "num1 = float(input(\"Enter first number: \"))\n",
    "num2 = float(input(\"Enter second number: \"))\n",
    "num3 = float(input(\"Enter third number: \"))\n",
    "\n",
    "# Find the largest number\n",
    "largest = max(num1, num2, num3)\n",
    "\n",
    "print(f\"Largest number is: {largest}\")\n"
   ]
  },
  {
   "cell_type": "markdown",
   "id": "94b2e744-6292-4f83-95f0-1c475ae6ee02",
   "metadata": {},
   "source": [
    "### 12. Check Triangle Type"
   ]
  },
  {
   "cell_type": "code",
   "execution_count": 16,
   "id": "e5a266ff-517e-4426-8c20-bb34bee612d4",
   "metadata": {},
   "outputs": [
    {
     "name": "stdin",
     "output_type": "stream",
     "text": [
      "Enter side a:  25\n",
      "Enter side b:  25\n",
      "Enter side c:  25\n"
     ]
    },
    {
     "name": "stdout",
     "output_type": "stream",
     "text": [
      "The triangle is Equilateral.\n"
     ]
    }
   ],
   "source": [
    "# Input three sides of a triangle\n",
    "a = float(input(\"Enter side a: \"))\n",
    "b = float(input(\"Enter side b: \"))\n",
    "c = float(input(\"Enter side c: \"))\n",
    "\n",
    "# Check triangle type\n",
    "if a == b == c:\n",
    "    print(\"The triangle is Equilateral.\")\n",
    "elif a == b or b == c or a == c:\n",
    "    print(\"The triangle is Isosceles.\")\n",
    "else:\n",
    "    print(\"The triangle is Scalene.\")\n"
   ]
  },
  {
   "cell_type": "markdown",
   "id": "22539cff-5a92-47c5-98e7-63c439550d01",
   "metadata": {},
   "source": [
    "### 13. Check Leap Year"
   ]
  },
  {
   "cell_type": "code",
   "execution_count": 19,
   "id": "4d92e11f-0d2c-49e0-92bd-05cc6162cd56",
   "metadata": {},
   "outputs": [
    {
     "name": "stdin",
     "output_type": "stream",
     "text": [
      "Enter a year:  2028\n"
     ]
    },
    {
     "name": "stdout",
     "output_type": "stream",
     "text": [
      "It is a Leap Year.\n"
     ]
    }
   ],
   "source": [
    "# Input year\n",
    "year = int(input(\"Enter a year: \"))\n",
    "\n",
    "# Check if leap year\n",
    "if (year % 4 == 0 and year % 100 != 0) or (year % 400 == 0):\n",
    "    print(\"It is a Leap Year.\")\n",
    "else:\n",
    "    print(\"It is not a Leap Year.\")\n"
   ]
  },
  {
   "cell_type": "markdown",
   "id": "90dd700d-86b0-4c14-94b4-1afff01ad391",
   "metadata": {},
   "source": [
    "### 14. Grade Based on Marks"
   ]
  },
  {
   "cell_type": "code",
   "execution_count": 20,
   "id": "0d0d5885-95c9-4aa7-ac7e-f2b041599878",
   "metadata": {},
   "outputs": [
    {
     "name": "stdin",
     "output_type": "stream",
     "text": [
      "Enter marks for subject 1:  85\n",
      "Enter marks for subject 2:  91\n",
      "Enter marks for subject 3:  95\n",
      "Enter marks for subject 4:  98\n"
     ]
    },
    {
     "name": "stdout",
     "output_type": "stream",
     "text": [
      "Average Marks: 92.25, Grade: A\n"
     ]
    }
   ],
   "source": [
    "# Input marks for four subjects\n",
    "marks = [float(input(f\"Enter marks for subject {i+1}: \")) for i in range(4)]\n",
    "\n",
    "# Calculate average\n",
    "average = sum(marks) / 4\n",
    "\n",
    "# Determine grade\n",
    "if average >= 75:\n",
    "    grade = 'A'\n",
    "elif average >= 60:\n",
    "    grade = 'B'\n",
    "elif average >= 40:\n",
    "    grade = 'C'\n",
    "else:\n",
    "    grade = 'D'\n",
    "\n",
    "print(f\"Average Marks: {average:.2f}, Grade: {grade}\")\n"
   ]
  },
  {
   "cell_type": "markdown",
   "id": "d3682a5e-85d5-4700-a602-9a9ff861b150",
   "metadata": {},
   "source": [
    "### 15. Simple Calculator"
   ]
  },
  {
   "cell_type": "code",
   "execution_count": 21,
   "id": "7853464e-c26d-4dae-bc75-4dc70cbc7bf3",
   "metadata": {},
   "outputs": [
    {
     "name": "stdin",
     "output_type": "stream",
     "text": [
      "Enter operation (+, -, *, /):  +\n",
      "Enter first number:  23546\n",
      "Enter second number:  32645\n"
     ]
    },
    {
     "name": "stdout",
     "output_type": "stream",
     "text": [
      "Result: 56191.0\n"
     ]
    }
   ],
   "source": [
    "# Input operation and numbers\n",
    "operation = input(\"Enter operation (+, -, *, /): \")\n",
    "num1 = float(input(\"Enter first number: \"))\n",
    "num2 = float(input(\"Enter second number: \"))\n",
    "\n",
    "# Perform calculation\n",
    "if operation == '+':\n",
    "    result = num1 + num2\n",
    "elif operation == '-':\n",
    "    result = num1 - num2\n",
    "elif operation == '*':\n",
    "    result = num1 * num2\n",
    "elif operation == '/':\n",
    "    if num2 != 0:\n",
    "        result = num1 / num2\n",
    "    else:\n",
    "        result = \"Error: Division by zero\"\n",
    "else:\n",
    "    result = \"Invalid operation\"\n",
    "\n",
    "print(f\"Result: {result}\")\n"
   ]
  },
  {
   "cell_type": "markdown",
   "id": "78a1812e-18fd-4d8f-88a1-3db056d9a2b2",
   "metadata": {},
   "source": [
    "### 16. Roots of a Quadratic Equation"
   ]
  },
  {
   "cell_type": "code",
   "execution_count": 27,
   "id": "838ce3b1-5ac0-47d7-a85f-39290561e373",
   "metadata": {},
   "outputs": [
    {
     "name": "stdin",
     "output_type": "stream",
     "text": [
      "Enter coefficient a:  1\n",
      "Enter coefficient b:  5\n",
      "Enter coefficient c:  6\n"
     ]
    },
    {
     "name": "stdout",
     "output_type": "stream",
     "text": [
      "Roots: (-2+0j) and (-3+0j)\n"
     ]
    }
   ],
   "source": [
    "import cmath\n",
    "\n",
    "# Input coefficients\n",
    "a = float(input(\"Enter coefficient a: \"))\n",
    "b = float(input(\"Enter coefficient b: \"))\n",
    "c = float(input(\"Enter coefficient c: \"))\n",
    "\n",
    "# Calculate the roots\n",
    "d = (b ** 2) - (4 * a * c)\n",
    "root1 = (-b + cmath.sqrt(d)) / (2 * a)\n",
    "root2 = (-b - cmath.sqrt(d)) / (2 * a)\n",
    "\n",
    "print(f\"Roots: {root1} and {root2}\")\n"
   ]
  },
  {
   "cell_type": "markdown",
   "id": "4bd2bc05-e690-4446-bc66-d258a62ac1f9",
   "metadata": {},
   "source": [
    "### 17. Print Numbers from 1 to n"
   ]
  },
  {
   "cell_type": "code",
   "execution_count": 29,
   "id": "71f5b01c-5b05-45a4-b4ab-8e580d06e875",
   "metadata": {},
   "outputs": [
    {
     "name": "stdin",
     "output_type": "stream",
     "text": [
      "Enter a number:  108\n"
     ]
    },
    {
     "name": "stdout",
     "output_type": "stream",
     "text": [
      "1 2 3 4 5 6 7 8 9 10 11 12 13 14 15 16 17 18 19 20 21 22 23 24 25 26 27 28 29 30 31 32 33 34 35 36 37 38 39 40 41 42 43 44 45 46 47 48 49 50 51 52 53 54 55 56 57 58 59 60 61 62 63 64 65 66 67 68 69 70 71 72 73 74 75 76 77 78 79 80 81 82 83 84 85 86 87 88 89 90 91 92 93 94 95 96 97 98 99 100 101 102 103 104 105 106 107 108 \n"
     ]
    }
   ],
   "source": [
    "# Input number\n",
    "n = int(input(\"Enter a number: \"))\n",
    "\n",
    "# Print numbers from 1 to n\n",
    "for i in range(1, n+1):\n",
    "    print(i, end=' ')\n",
    "print()\n"
   ]
  },
  {
   "cell_type": "markdown",
   "id": "ceccf14a-0648-4430-96d0-aadaeebc6302",
   "metadata": {},
   "source": [
    "### 18. Sum of Natural Numbers"
   ]
  },
  {
   "cell_type": "code",
   "execution_count": 30,
   "id": "27c1d72e-c9a5-49f7-984c-2a3406312b97",
   "metadata": {},
   "outputs": [
    {
     "name": "stdin",
     "output_type": "stream",
     "text": [
      "Enter a number:  369\n"
     ]
    },
    {
     "name": "stdout",
     "output_type": "stream",
     "text": [
      "Sum of natural numbers up to 369: 68265\n"
     ]
    }
   ],
   "source": [
    "# Input number\n",
    "n = int(input(\"Enter a number: \"))\n",
    "\n",
    "# Calculate sum of natural numbers\n",
    "total_sum = sum(range(1, n+1))\n",
    "\n",
    "print(f\"Sum of natural numbers up to {n}: {total_sum}\")\n"
   ]
  },
  {
   "cell_type": "markdown",
   "id": "455087f1-a2d4-4ef0-9e70-90a739124d42",
   "metadata": {},
   "source": [
    "### 19. Sum of Digits"
   ]
  },
  {
   "cell_type": "code",
   "execution_count": 33,
   "id": "287a4717-d986-40c0-b498-325108fa651e",
   "metadata": {},
   "outputs": [
    {
     "name": "stdin",
     "output_type": "stream",
     "text": [
      "Enter a number:  25559988\n"
     ]
    },
    {
     "name": "stdout",
     "output_type": "stream",
     "text": [
      "Sum of digits: 51\n"
     ]
    }
   ],
   "source": [
    "# Input number\n",
    "number = int(input(\"Enter a number: \"))\n",
    "\n",
    "# Calculate sum of digits\n",
    "sum_digits = sum(int(digit) for digit in str(number))\n",
    "\n",
    "print(f\"Sum of digits: {sum_digits}\")\n"
   ]
  },
  {
   "cell_type": "markdown",
   "id": "121cc907-e013-4150-bfe7-8068b74a65c6",
   "metadata": {},
   "source": [
    "### 20. Factors of a Number"
   ]
  },
  {
   "cell_type": "code",
   "execution_count": 34,
   "id": "639a4d1e-2319-425e-a4a1-b1841bf69ff6",
   "metadata": {},
   "outputs": [
    {
     "name": "stdin",
     "output_type": "stream",
     "text": [
      "Enter a number:  1778\n"
     ]
    },
    {
     "name": "stdout",
     "output_type": "stream",
     "text": [
      "Factors of 1778: [1, 2, 7, 14, 127, 254, 889, 1778]\n"
     ]
    }
   ],
   "source": [
    "# Input number\n",
    "number = int(input(\"Enter a number: \"))\n",
    "\n",
    "# Calculate factors\n",
    "factors = [i for i in range(1, number + 1) if number % i == 0]\n",
    "\n",
    "print(f\"Factors of {number}: {factors}\")\n"
   ]
  },
  {
   "cell_type": "markdown",
   "id": "6ee1b0d4-5ff5-468d-9fe5-1da8cd61cb03",
   "metadata": {},
   "source": [
    "### 21. Reverse of a Number"
   ]
  },
  {
   "cell_type": "code",
   "execution_count": 36,
   "id": "7e256b58-d4c8-49da-b1ea-3eb33adf8cde",
   "metadata": {},
   "outputs": [
    {
     "name": "stdin",
     "output_type": "stream",
     "text": [
      "Enter a number:  8063615498\n"
     ]
    },
    {
     "name": "stdout",
     "output_type": "stream",
     "text": [
      "Reverse of the number: 8945163608\n"
     ]
    }
   ],
   "source": [
    "# Input number\n",
    "number = int(input(\"Enter a number: \"))\n",
    "\n",
    "# Reverse the number\n",
    "reversed_number = int(str(number)[::-1])\n",
    "\n",
    "print(f\"Reverse of the number: {reversed_number}\")\n"
   ]
  },
  {
   "cell_type": "markdown",
   "id": "27790332-f50b-4c50-ac22-6a7b5ad90d3c",
   "metadata": {},
   "source": [
    "### 22. Factorial of a Given Number"
   ]
  },
  {
   "cell_type": "code",
   "execution_count": 39,
   "id": "3ea09cc7-c389-4841-a7fb-e50e219c4c98",
   "metadata": {},
   "outputs": [
    {
     "name": "stdin",
     "output_type": "stream",
     "text": [
      "Enter a number:  18\n"
     ]
    },
    {
     "name": "stdout",
     "output_type": "stream",
     "text": [
      "Factorial of 18: 6402373705728000\n"
     ]
    }
   ],
   "source": [
    "import math\n",
    "\n",
    "# Input number\n",
    "number = int(input(\"Enter a number: \"))\n",
    "\n",
    "# Calculate factorial\n",
    "factorial = math.factorial(number)\n",
    "\n",
    "print(f\"Factorial of {number}: {factorial}\")\n"
   ]
  },
  {
   "cell_type": "markdown",
   "id": "9c075ec4-179b-47c3-ba54-f8bb60267b79",
   "metadata": {},
   "source": [
    "### 23. Check Palindrome"
   ]
  },
  {
   "cell_type": "code",
   "execution_count": 41,
   "id": "d910d9fa-c1a5-4c4d-9995-a2fff6b3ac87",
   "metadata": {},
   "outputs": [
    {
     "name": "stdin",
     "output_type": "stream",
     "text": [
      "Enter a number:  12321\n"
     ]
    },
    {
     "name": "stdout",
     "output_type": "stream",
     "text": [
      "The number is a palindrome.\n"
     ]
    }
   ],
   "source": [
    "# Input number\n",
    "number = int(input(\"Enter a number: \"))\n",
    "\n",
    "# Check if palindrome\n",
    "is_palindrome = str(number) == str(number)[::-1]\n",
    "\n",
    "print(f\"The number is {'a palindrome' if is_palindrome else 'not a palindrome'}.\")\n"
   ]
  },
  {
   "cell_type": "markdown",
   "id": "3a72594c-48b7-4798-bbdc-4133ca420c0c",
   "metadata": {},
   "source": [
    "### 24. Check Prime Number"
   ]
  },
  {
   "cell_type": "code",
   "execution_count": 48,
   "id": "e3b9d743-c532-4ada-8f8e-1e2bd03a7e97",
   "metadata": {},
   "outputs": [
    {
     "name": "stdin",
     "output_type": "stream",
     "text": [
      "Enter a number:  21577\n"
     ]
    },
    {
     "name": "stdout",
     "output_type": "stream",
     "text": [
      "21577 is a prime number.\n"
     ]
    }
   ],
   "source": [
    "# Input number\n",
    "number = int(input(\"Enter a number: \"))\n",
    "\n",
    "# Check if the number is prime\n",
    "if number < 2:\n",
    "    print(f\"{number} is not a prime number.\")\n",
    "else:\n",
    "    is_prime = True\n",
    "    for i in range(2, int(number ** 0.5) + 1):\n",
    "        if number % i == 0:\n",
    "            is_prime = False\n",
    "            break\n",
    "    \n",
    "    if is_prime:\n",
    "        print(f\"{number} is a prime number.\")\n",
    "    else:\n",
    "        print(f\"{number} is not a prime number.\")\n"
   ]
  },
  {
   "cell_type": "markdown",
   "id": "697a657c-9ec6-4556-b8ad-5a92ad193843",
   "metadata": {},
   "source": [
    "### 25. Check Armstrong Number"
   ]
  },
  {
   "cell_type": "code",
   "execution_count": 50,
   "id": "8512ef17-dbdf-4531-bd46-e073a865d9f4",
   "metadata": {},
   "outputs": [
    {
     "name": "stdin",
     "output_type": "stream",
     "text": [
      "Enter a number:  54748\n"
     ]
    },
    {
     "name": "stdout",
     "output_type": "stream",
     "text": [
      "54748 is an Armstrong number.\n"
     ]
    }
   ],
   "source": [
    "# Input number\n",
    "number = int(input(\"Enter a number: \"))\n",
    "\n",
    "# Check if Armstrong number\n",
    "num_str = str(number)\n",
    "num_len = len(num_str)\n",
    "sum_of_powers = sum(int(digit) ** num_len for digit in num_str)\n",
    "\n",
    "print(f\"{number} is {'an Armstrong number' if sum_of_powers == number else 'not an Armstrong number'}.\")\n"
   ]
  },
  {
   "cell_type": "markdown",
   "id": "3ffea33c-853b-4a3a-8eb3-b459f94efbb3",
   "metadata": {},
   "source": [
    "### 26. Fibonacci Series of n Terms"
   ]
  },
  {
   "cell_type": "code",
   "execution_count": 51,
   "id": "d04a6abd-acbd-4c61-83f3-5915b1bb68a7",
   "metadata": {},
   "outputs": [
    {
     "name": "stdin",
     "output_type": "stream",
     "text": [
      "Enter number of terms:  18\n"
     ]
    },
    {
     "name": "stdout",
     "output_type": "stream",
     "text": [
      "0 1 1 2 3 5 8 13 21 34 55 89 144 233 377 610 987 1597 \n"
     ]
    }
   ],
   "source": [
    "# Input number of terms\n",
    "n = int(input(\"Enter number of terms: \"))\n",
    "\n",
    "# Generate Fibonacci series\n",
    "a, b = 0, 1\n",
    "for _ in range(n):\n",
    "    print(a, end=' ')\n",
    "    a, b = b, a + b\n",
    "print()\n"
   ]
  },
  {
   "cell_type": "markdown",
   "id": "86885d65-63c5-46db-8904-dfaf20f7555d",
   "metadata": {},
   "source": [
    "### 27. Multiplication Table"
   ]
  },
  {
   "cell_type": "code",
   "execution_count": 53,
   "id": "52e7ed0f-2a13-40b8-a2fa-11ca9a4901fa",
   "metadata": {},
   "outputs": [
    {
     "name": "stdin",
     "output_type": "stream",
     "text": [
      "Enter a number:  369\n"
     ]
    },
    {
     "name": "stdout",
     "output_type": "stream",
     "text": [
      "369 x 1 = 369\n",
      "369 x 2 = 738\n",
      "369 x 3 = 1107\n",
      "369 x 4 = 1476\n",
      "369 x 5 = 1845\n",
      "369 x 6 = 2214\n",
      "369 x 7 = 2583\n",
      "369 x 8 = 2952\n",
      "369 x 9 = 3321\n",
      "369 x 10 = 3690\n"
     ]
    }
   ],
   "source": [
    "# Input number\n",
    "num = int(input(\"Enter a number: \"))\n",
    "\n",
    "# Print multiplication table\n",
    "for i in range(1, 11):\n",
    "    print(f\"{num} x {i} = {num * i}\")\n"
   ]
  },
  {
   "cell_type": "markdown",
   "id": "30886f7f-068a-467e-89bc-f62c5b11adf8",
   "metadata": {},
   "source": [
    "### 28. Input and Print List"
   ]
  },
  {
   "cell_type": "code",
   "execution_count": 54,
   "id": "144bcd93-0635-4527-a289-f8ccf93c96c6",
   "metadata": {},
   "outputs": [
    {
     "name": "stdin",
     "output_type": "stream",
     "text": [
      "Enter items separated by commas:  CAT,DOG,LION,TIGER,ELEPHANT,WOLF,GORILLA,CHEETAH\n"
     ]
    },
    {
     "name": "stdout",
     "output_type": "stream",
     "text": [
      "List: ['CAT', 'DOG', 'LION', 'TIGER', 'ELEPHANT', 'WOLF', 'GORILLA', 'CHEETAH']\n"
     ]
    }
   ],
   "source": [
    "# Input list items\n",
    "items = input(\"Enter items separated by commas: \").split(',')\n",
    "\n",
    "# Print the list\n",
    "print(f\"List: {items}\")\n"
   ]
  },
  {
   "cell_type": "markdown",
   "id": "7d8e3c80-7a65-4e0f-b902-fec590ff9df9",
   "metadata": {},
   "source": [
    "### 29. Average of n Numbers Using List"
   ]
  },
  {
   "cell_type": "code",
   "execution_count": 55,
   "id": "d092210d-5908-47c1-8a94-c0b0fb5eef53",
   "metadata": {},
   "outputs": [
    {
     "name": "stdin",
     "output_type": "stream",
     "text": [
      "Enter numbers separated by commas:  254,368,216,312,456,369,178,878\n"
     ]
    },
    {
     "name": "stdout",
     "output_type": "stream",
     "text": [
      "Average of the numbers: 378.88\n"
     ]
    }
   ],
   "source": [
    "# Input numbers\n",
    "numbers = list(map(float, input(\"Enter numbers separated by commas: \").split(',')))\n",
    "\n",
    "# Calculate average\n",
    "average = sum(numbers) / len(numbers)\n",
    "\n",
    "print(f\"Average of the numbers: {average:.2f}\")\n"
   ]
  },
  {
   "cell_type": "markdown",
   "id": "1b228572-7650-4bb1-ab72-9472e74a4a9c",
   "metadata": {},
   "source": [
    "### 30. Find Largest Element in a List"
   ]
  },
  {
   "cell_type": "code",
   "execution_count": 57,
   "id": "214a1f72-c169-4e1c-8b3c-4121a6632186",
   "metadata": {},
   "outputs": [
    {
     "name": "stdin",
     "output_type": "stream",
     "text": [
      "Enter numbers separated by commas:  269,3256,984,325,6521,942,3567,2541,8462,8788\n"
     ]
    },
    {
     "name": "stdout",
     "output_type": "stream",
     "text": [
      "Largest element in the list: 8788.0\n"
     ]
    }
   ],
   "source": [
    "# Input list items\n",
    "items = list(map(float, input(\"Enter numbers separated by commas: \").split(',')))\n",
    "\n",
    "# Find largest element\n",
    "largest = max(items)\n",
    "\n",
    "print(f\"Largest element in the list: {largest}\")\n"
   ]
  },
  {
   "cell_type": "markdown",
   "id": "a511bfd1-97d0-488c-bb59-6af537f4ca04",
   "metadata": {},
   "source": [
    "### 31. Linear Search"
   ]
  },
  {
   "cell_type": "code",
   "execution_count": 61,
   "id": "f0316f62-1c88-4a93-9de7-192475372a8c",
   "metadata": {},
   "outputs": [
    {
     "name": "stdin",
     "output_type": "stream",
     "text": [
      "Enter numbers separated by commas:  1256,2536,5468,2564,9781,35648,2546,2541,3569,7888,2582,2858\n",
      "Enter the value to search:  2564\n"
     ]
    },
    {
     "name": "stdout",
     "output_type": "stream",
     "text": [
      "Value found in the list.\n"
     ]
    }
   ],
   "source": [
    "# Input list and target value\n",
    "items = list(map(int, input(\"Enter numbers separated by commas: \").split(',')))\n",
    "target = int(input(\"Enter the value to search: \"))\n",
    "\n",
    "# Perform linear search\n",
    "found = target in items\n",
    "\n",
    "print(f\"Value {'found' if found else 'not found'} in the list.\")\n"
   ]
  },
  {
   "cell_type": "markdown",
   "id": "51e26cfa-1851-4eac-99f1-0b52b57fc53d",
   "metadata": {},
   "source": [
    "### 32. Capitalize Input Lines"
   ]
  },
  {
   "cell_type": "code",
   "execution_count": 63,
   "id": "dec1e616-c4f9-42d2-8f93-db3800cf081f",
   "metadata": {},
   "outputs": [
    {
     "name": "stdout",
     "output_type": "stream",
     "text": [
      "Enter lines of text (type 'done' to finish):\n"
     ]
    },
    {
     "name": "stdin",
     "output_type": "stream",
     "text": [
      "  Artificial Intelligence is an idea that has been captivating society since the mid-20th century. It began with science fiction familiarizing the world with the concept but the idea was not fully seen in the scientific manner until Alan Turing, a polymath, was curious about the feasibility of the concept. Turing's ground-breaking 1950 paper, \"Computing Machinery and Intelligence,\" posed fundamental questions about machine reasoning similar to human intelligence, significantly contributing to the conceptual groundwork of AI. The development of AI was not very rapid at first because of the high costs and the fact that computers were not able to store commands. This changed during the 1956 Dartmouth Summer Research Project on AI where there was an inspiring call for AI research, setting the precedent for two decades of rapid advancements in the field.[25]  Since the founding of AI in the 1950s, artists and researchers have used artificial intelligence to create artistic works. By the early 1970s, Harold Cohen was creating and exhibiting generative AI works created by AARON, the computer program Cohen created to generate paintings.Markov chains have long been used to model natural languages since their development by Russian mathematician Andrey Markov in the early 20th century. Markov published his first paper on the topic in 1906,and analyzed the pattern of vowels and consonants in the novel Eugeny Onegin using Markov chains. Once a Markov chain is learned on a text corpus, it can then be used as a probabilistic text generator\n",
      " done\n"
     ]
    },
    {
     "name": "stdout",
     "output_type": "stream",
     "text": [
      " ARTIFICIAL INTELLIGENCE IS AN IDEA THAT HAS BEEN CAPTIVATING SOCIETY SINCE THE MID-20TH CENTURY. IT BEGAN WITH SCIENCE FICTION FAMILIARIZING THE WORLD WITH THE CONCEPT BUT THE IDEA WAS NOT FULLY SEEN IN THE SCIENTIFIC MANNER UNTIL ALAN TURING, A POLYMATH, WAS CURIOUS ABOUT THE FEASIBILITY OF THE CONCEPT. TURING'S GROUND-BREAKING 1950 PAPER, \"COMPUTING MACHINERY AND INTELLIGENCE,\" POSED FUNDAMENTAL QUESTIONS ABOUT MACHINE REASONING SIMILAR TO HUMAN INTELLIGENCE, SIGNIFICANTLY CONTRIBUTING TO THE CONCEPTUAL GROUNDWORK OF AI. THE DEVELOPMENT OF AI WAS NOT VERY RAPID AT FIRST BECAUSE OF THE HIGH COSTS AND THE FACT THAT COMPUTERS WERE NOT ABLE TO STORE COMMANDS. THIS CHANGED DURING THE 1956 DARTMOUTH SUMMER RESEARCH PROJECT ON AI WHERE THERE WAS AN INSPIRING CALL FOR AI RESEARCH, SETTING THE PRECEDENT FOR TWO DECADES OF RAPID ADVANCEMENTS IN THE FIELD.[25]  SINCE THE FOUNDING OF AI IN THE 1950S, ARTISTS AND RESEARCHERS HAVE USED ARTIFICIAL INTELLIGENCE TO CREATE ARTISTIC WORKS. BY THE EARLY 1970S, HAROLD COHEN WAS CREATING AND EXHIBITING GENERATIVE AI WORKS CREATED BY AARON, THE COMPUTER PROGRAM COHEN CREATED TO GENERATE PAINTINGS.MARKOV CHAINS HAVE LONG BEEN USED TO MODEL NATURAL LANGUAGES SINCE THEIR DEVELOPMENT BY RUSSIAN MATHEMATICIAN ANDREY MARKOV IN THE EARLY 20TH CENTURY. MARKOV PUBLISHED HIS FIRST PAPER ON THE TOPIC IN 1906,AND ANALYZED THE PATTERN OF VOWELS AND CONSONANTS IN THE NOVEL EUGENY ONEGIN USING MARKOV CHAINS. ONCE A MARKOV CHAIN IS LEARNED ON A TEXT CORPUS, IT CAN THEN BE USED AS A PROBABILISTIC TEXT GENERATOR\n"
     ]
    }
   ],
   "source": [
    "# Input multiple lines\n",
    "lines = []\n",
    "print(\"Enter lines of text (type 'done' to finish):\")\n",
    "while True:\n",
    "    line = input()\n",
    "    if line.lower() == 'done':\n",
    "        break\n",
    "    lines.append(line)\n",
    "\n",
    "# Print capitalized lines\n",
    "for line in lines:\n",
    "    print(line.upper())\n"
   ]
  },
  {
   "cell_type": "markdown",
   "id": "cb87c132-a947-4982-aaf3-cf653315e87c",
   "metadata": {},
   "source": [
    "### 33. Comma-Separated Numbers to List and Tuple"
   ]
  },
  {
   "cell_type": "code",
   "execution_count": 64,
   "id": "e22341b4-74b7-451d-a7a6-2985a5561059",
   "metadata": {},
   "outputs": [
    {
     "name": "stdin",
     "output_type": "stream",
     "text": [
      "Enter comma-separated numbers:   3,5,7,23 \n"
     ]
    },
    {
     "name": "stdout",
     "output_type": "stream",
     "text": [
      "List: [' 3', '5', '7', '23 ']\n",
      "Tuple: (' 3', '5', '7', '23 ')\n"
     ]
    }
   ],
   "source": [
    "# Input comma-separated numbers\n",
    "input_string = input(\"Enter comma-separated numbers: \")\n",
    "\n",
    "# Generate list and tuple\n",
    "numbers_list = input_string.split(',')\n",
    "numbers_tuple = tuple(numbers_list)\n",
    "\n",
    "print(f\"List: {numbers_list}\")\n",
    "print(f\"Tuple: {numbers_tuple}\")\n"
   ]
  },
  {
   "cell_type": "markdown",
   "id": "b2f0857a-5b89-4d2d-81f0-d6efe771864c",
   "metadata": {},
   "source": [
    "### 34. Net Amount from Transaction Log"
   ]
  },
  {
   "cell_type": "code",
   "execution_count": 65,
   "id": "f3626cbf-9ba3-462f-9ed6-e115ef18fabf",
   "metadata": {},
   "outputs": [
    {
     "name": "stdin",
     "output_type": "stream",
     "text": [
      "Enter transactions (e.g., 'D 100 W 200'):  D 300 D 300 W 200 D 100\n"
     ]
    },
    {
     "name": "stdout",
     "output_type": "stream",
     "text": [
      "Net amount: 500\n"
     ]
    }
   ],
   "source": [
    "# Input transaction log\n",
    "transactions = input(\"Enter transactions (e.g., 'D 100 W 200'): \").split()\n",
    "\n",
    "# Initialize balance\n",
    "balance = 0\n",
    "\n",
    "# Process transactions\n",
    "for i in range(0, len(transactions), 2):\n",
    "    action = transactions[i]\n",
    "    amount = int(transactions[i + 1])\n",
    "    if action == 'D':\n",
    "        balance += amount\n",
    "    elif action == 'W':\n",
    "        balance -= amount\n",
    "\n",
    "print(f\"Net amount: {balance}\")\n"
   ]
  }
 ],
 "metadata": {
  "kernelspec": {
   "display_name": "Python 3 (ipykernel)",
   "language": "python",
   "name": "python3"
  },
  "language_info": {
   "codemirror_mode": {
    "name": "ipython",
    "version": 3
   },
   "file_extension": ".py",
   "mimetype": "text/x-python",
   "name": "python",
   "nbconvert_exporter": "python",
   "pygments_lexer": "ipython3",
   "version": "3.12.3"
  }
 },
 "nbformat": 4,
 "nbformat_minor": 5
}
